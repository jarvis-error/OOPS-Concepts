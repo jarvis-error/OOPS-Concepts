{
 "cells": [
  {
   "cell_type": "markdown",
   "id": "df1f5f45",
   "metadata": {},
   "source": [
    "### Python Codes"
   ]
  },
  {
   "cell_type": "code",
   "execution_count": 3,
   "id": "f164bd50",
   "metadata": {},
   "outputs": [
    {
     "name": "stdout",
     "output_type": "stream",
     "text": [
      "87.33333333333333\n",
      "90.0\n",
      "98\n",
      "35\n",
      "Telusko\n",
      "Send Off\n"
     ]
    }
   ],
   "source": [
    "# Types of Methods----Instance,Class,Static\n",
    "\n",
    "class Tenth:\n",
    "    school='Telusko'\n",
    "    def __init__(self,m1,m2,m3):\n",
    "        self.m1=m1\n",
    "        self.m2=m2\n",
    "        self.m3=m3\n",
    "    def avrg(self): #-------Instance method\n",
    "        return (self.m1+self.m2+self.m3)/3\n",
    "    def get_mar(self):\n",
    "        print(self.m1)\n",
    "    def chng_mar(self,chn):\n",
    "        self.m1=chn\n",
    "        print(self.m1)\n",
    "    @classmethod\n",
    "    def get_info(cls): #--------Class method\n",
    "        print(cls.school)\n",
    "    @staticmethod\n",
    "    def infoo(): #---------Static method\n",
    "        print('Send Off')\n",
    "\n",
    "stu1=Tenth(98,77,87)\n",
    "stu2=Tenth(78,100,92)\n",
    "print(stu1.avrg())#Instance\n",
    "print(stu2.avrg())#Instance\n",
    "stu1.get_mar()  # accessor\n",
    "stu2.chng_mar(35) # mutator\n",
    "Tenth.get_info() #class method\n",
    "Tenth.infoo() #static method\n",
    "\n"
   ]
  },
  {
   "cell_type": "code",
   "execution_count": 7,
   "id": "4e2b6824",
   "metadata": {},
   "outputs": [
    {
     "name": "stdout",
     "output_type": "stream",
     "text": [
      "S1 values are:  Dave 45\n",
      "Dave 45\n",
      "i5 8gb Acer\n",
      "i5 8gb Acer\n"
     ]
    }
   ],
   "source": [
    "# Inner Class\n",
    "# Inner class with object created outside outer class\n",
    "\n",
    "class student:\n",
    "    def __init__(self,name,rollno):\n",
    "        self.name = name\n",
    "        self.roll = rollno\n",
    "\n",
    "    def show(self):\n",
    "        print(self.name,self.roll)\n",
    "    class laptop:\n",
    "        def __init__(self,proc,ram,comp):\n",
    "            self.proc=proc\n",
    "            self.ram=ram\n",
    "            self.comp=comp\n",
    "        def show(self):\n",
    "            print(self.proc,self.ram,self.comp)\n",
    "s1 = student('Dave',45)\n",
    "s2 = student('tina',54)\n",
    "print('S1 values are: ',s1.name,s1.roll)\n",
    "s1.show()\n",
    "\n",
    "lap1=student.laptop('i5','8gb','Acer')\n",
    "print(lap1.proc,lap1.ram,lap1.comp)\n",
    "lap1.show()\n",
    "\n"
   ]
  },
  {
   "cell_type": "code",
   "execution_count": null,
   "id": "1ded9c17",
   "metadata": {},
   "outputs": [],
   "source": [
    "# Inner Class\n",
    "# Inner class with object created inside outer class\n",
    "\n",
    "class student:\n",
    "    def __init__(self,name,rollno):\n",
    "        self.name = name\n",
    "        self.roll = rollno\n",
    "        self.lap=self.laptop('i5','8gb','Acer') # ------ Object of inner class\n",
    "\n",
    "    def show(self):\n",
    "        print(self.name,self.roll)\n",
    "        self.lap.show() #-----call method\n",
    "    class laptop:\n",
    "        def __init__(self,proc,ram,comp):\n",
    "            self.proc=proc\n",
    "            self.ram=ram\n",
    "            self.comp=comp\n",
    "        def show(self):\n",
    "            print(self.proc,self.ram,self.comp)\n",
    "\n",
    "s1 = student('Dave',45)\n",
    "s2 = student('tina',54)\n",
    "print(s1.name,s1.roll)\n",
    "print(s1.lap.proc,s1.lap.ram,s1.lap.comp)\n",
    "s1.show()\n",
    "s1.lap.show()\n",
    "#----OR\n",
    "lap1=s1.lap\n",
    "lap1.show()"
   ]
  }
 ],
 "metadata": {
  "kernelspec": {
   "display_name": "Python 3",
   "language": "python",
   "name": "python3"
  },
  "language_info": {
   "codemirror_mode": {
    "name": "ipython",
    "version": 3
   },
   "file_extension": ".py",
   "mimetype": "text/x-python",
   "name": "python",
   "nbconvert_exporter": "python",
   "pygments_lexer": "ipython3",
   "version": "3.8.8"
  }
 },
 "nbformat": 4,
 "nbformat_minor": 5
}
